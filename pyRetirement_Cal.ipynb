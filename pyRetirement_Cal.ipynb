{
 "cells": [
  {
   "cell_type": "markdown",
   "id": "7bb38e85-b75f-4501-b8f7-4ad77e2e174a",
   "metadata": {},
   "source": [
    "# Import Libraries"
   ]
  },
  {
   "cell_type": "code",
   "execution_count": 6,
   "id": "e3c0a387-5418-4fc4-a1b3-5198dfd8564a",
   "metadata": {},
   "outputs": [],
   "source": [
    "import numpy as np\n",
    "import matplotlib.pyplot as plt\n",
    "import matplotlib.ticker as mtick\n",
    "import pandas as pd\n",
    "import seaborn as sns"
   ]
  },
  {
   "cell_type": "markdown",
   "id": "e52eb0db-c04e-4c9c-89a9-05919ca9d0e3",
   "metadata": {},
   "source": [
    "# Create Function to get retirment values and create table"
   ]
  },
  {
   "cell_type": "code",
   "execution_count": 41,
   "id": "e4a71510-db88-407d-a7a4-88f812c08c99",
   "metadata": {},
   "outputs": [
    {
     "name": "stdout",
     "output_type": "stream",
     "text": [
      "At 24, you will have $5,700.00\n",
      "At 25, you will have $17,210.16\n",
      "At 26, you will have $34,642.84\n",
      "At 27, you will have $58,112.66\n",
      "At 28, you will have $87,736.51\n",
      "At 29, you will have $123,633.64\n",
      "At 30, you will have $165,925.68\n",
      "At 31, you will have $214,736.67\n",
      "At 32, you will have $270,193.16\n",
      "At 33, you will have $332,424.23\n",
      "At 34, you will have $401,561.51\n",
      "At 35, you will have $477,739.30\n",
      "At 36, you will have $561,094.57\n",
      "At 37, you will have $651,767.02\n",
      "At 38, you will have $749,899.16\n",
      "At 39, you will have $855,636.34\n",
      "At 40, you will have $969,126.83\n",
      "At 41, you will have $1,090,521.85\n",
      "At 42, you will have $1,219,975.64\n",
      "At 43, you will have $1,357,645.56\n",
      "At 44, you will have $1,503,692.07\n",
      "At 45, you will have $1,658,278.87\n",
      "At 46, you will have $1,821,572.93\n",
      "At 47, you will have $1,993,744.54\n",
      "At 48, you will have $2,174,967.43\n",
      "At 49, you will have $2,365,418.78\n",
      "At 50, you will have $2,565,279.32\n",
      "At 51, you will have $2,774,733.39\n",
      "At 52, you will have $2,993,969.01\n",
      "At 53, you will have $3,223,177.99\n",
      "At 54, you will have $3,462,555.95\n",
      "At 55, you will have $3,712,302.43\n",
      "At 56, you will have $3,972,620.96\n",
      "At 57, you will have $4,243,719.14\n",
      "At 58, you will have $4,525,808.72\n",
      "At 59, you will have $4,819,105.70\n"
     ]
    },
    {
     "data": {
      "image/png": "[encoded data removed]",
      "text/plain": [
       "<Figure size 432x288 with 1 Axes>"
      ]
     },
     "metadata": {
      "needs_background": "light"
     },
     "output_type": "display_data"
    }
   ],
   "source": [
    "currency = lambda n: f\"${n:,.2f}\"\n",
    "fmt = '${x:,.0f}'\n",
    "tick = mtick.StrMethodFormatter(fmt)\n",
    "def table(intin, age, inc = 60000, rr = 0.08, Rage = 59, invAmount = 0.05):\n",
    "    intR = intin * rr\n",
    "    finalReturn = 0\n",
    "    Yreturn = 0\n",
    "    while Rage > age:\n",
    "        inc += inc * 0.02\n",
    "        Yreturn += (inc * invAmount * rr) + (intR * rr) + (inc * invAmount)\n",
    "        finalReturn += Yreturn\n",
    "        age += 1\n",
    "        print(f'At {age}, you will have {currency(finalReturn)}')\n",
    "        #fig, ax  = plt.subplots(1,1, figsize = (15,6))\n",
    "        #fig.suptitle(f'Projected Amount at Retirement: {currency(finalReturn)}')\n",
    "        #ax.plot(age, int(finalReturn))\n",
    "        #ax.set_xlabel(\"Age\")\n",
    "        #ax.set_ylabel(\"Return in Millions $ \")\n",
    "        #ax.get_yaxis().set_major_formatter(tick)\n",
    "        plt.scatter(age, int(finalReturn), color = 'b')\n",
    "        plt.xlabel(\"Age\")\n",
    "        plt.ylabel(\"Amount Returned\")\n",
    "        plt.title(f'Projected Amount at Retirement: {currency(finalReturn)}')\n",
    "        plt.gca().yaxis.set_major_formatter(tick)\n",
    "    #return finalReturn\n",
    "        \n",
    "table(30000, 23, 100000)        \n",
    "    \n",
    "    "
   ]
  },
  {
   "cell_type": "markdown",
   "id": "34d77316-1123-4590-b40e-59b416484de9",
   "metadata": {},
   "source": [
    "# Monte carlo simulation"
   ]
  },
  {
   "cell_type": "code",
   "execution_count": 44,
   "id": "c2db7f20-c471-4795-ab6b-1864774d17e3",
   "metadata": {},
   "outputs": [
    {
     "data": {
      "text/plain": [
       "(array([1., 0., 1., 1., 0., 5., 7., 6., 1., 3.]),\n",
       " array([0.05 , 0.058, 0.066, 0.074, 0.082, 0.09 , 0.098, 0.106, 0.114,\n",
       "        0.122, 0.13 ]),\n",
       " <BarContainer object of 10 artists>)"
      ]
     },
     "execution_count": 44,
     "metadata": {},
     "output_type": "execute_result"
    },
    {
     "data": {
      "image/png": "[encoded data removed]",
      "text/plain": [
       "<Figure size 432x288 with 1 Axes>"
      ]
     },
     "metadata": {
      "needs_background": "light"
     },
     "output_type": "display_data"
    }
   ],
   "source": [
    "avg = .1\n",
    "std = .02\n",
    "num_year = 25\n",
    "num_simulations = 1000\n",
    "pct_to_target = np.random.normal(avg, std, num_year).round(2)\n",
    "\n",
    "\n",
    "\n",
    "currency = lambda n: f\"${n:,.2f}\"\n",
    "fmt = '${x:,.0f}'\n",
    "tick = mtick.StrMethodFormatter(fmt)\n",
    "def table(intin, age, inc = 60000, rr = 0.08, Rage = 59, invAmount = 0.05):\n",
    "    intR = intin * rr\n",
    "    finalReturn = 0\n",
    "    Yreturn = 0\n",
    "    while Rage > age:\n",
    "        inc += inc * 0.02\n",
    "        Yreturn += (inc * invAmount * rr) + (intR * rr) + (inc * invAmount)\n",
    "        finalReturn += Yreturn\n",
    "        age += 1\n",
    "        print(f'At {age}, you will have {currency(finalReturn)}')\n",
    "        #fig, ax  = plt.subplots(1,1, figsize = (15,6))\n",
    "        #fig.suptitle(f'Projected Amount at Retirement: {currency(finalReturn)}')\n",
    "        #ax.plot(age, int(finalReturn))\n",
    "        #ax.set_xlabel(\"Age\")\n",
    "        #ax.set_ylabel(\"Return in Millions $ \")\n",
    "        #ax.get_yaxis().set_major_formatter(tick)\n",
    "        plt.scatter(age, int(finalReturn), color = 'b')\n",
    "        plt.xlabel(\"Age\")\n",
    "        plt.ylabel(\"Amount Returned\")\n",
    "        plt.title(f'Projected Amount at Retirement: {currency(finalReturn)}')\n",
    "        plt.gca().yaxis.set_major_formatter(tick)\n",
    "    #return finalReturn\n",
    "        \n",
    "table(30000, 23, 100000)\n",
    "\n",
    "plt.hist(pct_to_target)"
   ]
  },
  {
   "cell_type": "code",
   "execution_count": null,
   "id": "030e4728-b22e-44ab-aaaa-c1e2917346d3",
   "metadata": {},
   "outputs": [],
   "source": []
  }
 ],
 "metadata": {
  "kernelspec": {
   "display_name": "Python 3 (ipykernel)",
   "language": "python",
   "name": "python3"
  },
  "language_info": {
   "codemirror_mode": {
    "name": "ipython",
    "version": 3
   },
   "file_extension": ".py",
   "mimetype": "text/x-python",
   "name": "python",
   "nbconvert_exporter": "python",
   "pygments_lexer": "ipython3",
   "version": "3.9.12"
  }
 },
 "nbformat": 4,
 "nbformat_minor": 5
}
